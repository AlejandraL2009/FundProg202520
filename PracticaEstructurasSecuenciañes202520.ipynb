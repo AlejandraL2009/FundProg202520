{
  "nbformat": 4,
  "nbformat_minor": 0,
  "metadata": {
    "colab": {
      "provenance": [],
      "authorship_tag": "ABX9TyNBzpMTl29FIvmWrwdmjV2O",
      "include_colab_link": true
    },
    "kernelspec": {
      "name": "python3",
      "display_name": "Python 3"
    },
    "language_info": {
      "name": "python"
    }
  },
  "cells": [
    {
      "cell_type": "markdown",
      "metadata": {
        "id": "view-in-github",
        "colab_type": "text"
      },
      "source": [
        "<a href=\"https://colab.research.google.com/github/AlejandraL2009/FundProg202520/blob/main/PracticaEstructurasSecuencia%C3%B1es202520.ipynb\" target=\"_parent\"><img src=\"https://colab.research.google.com/assets/colab-badge.svg\" alt=\"Open In Colab\"/></a>"
      ]
    },
    {
      "cell_type": "markdown",
      "source": [
        "#Ejercicios de Práctica con Estructuras Secuenciales\n",
        "**Curso:** Fundamentos de Programación\n",
        "\n",
        "**Presentado por:** Alejandra Lopera\n",
        "\n",
        "**Email:**\n",
        "\n",
        "**Fecha:**\n",
        "\n",
        "\n",
        "\n"
      ],
      "metadata": {
        "id": "NFi1dLuRTAYo"
      }
    },
    {
      "cell_type": "markdown",
      "source": [
        "##Información Personal\n",
        "-Diseña un programa que muestre la siguinte información:\n",
        "- tu nombre\n",
        "- tu dirrección, con ciudad, estado y codigo postal\n",
        "- tu numero de telefono\n",
        "- tu especialización\n",
        "## pseudocodigo\n",
        "```\n",
        "program personal_info\n",
        "start\n",
        "  Declare String name, address, city, state, zip, phone, career\n",
        "\n",
        "  Display \"programa de Información personal\"\n",
        "  Display \"Ingrese su nombre:\"\n",
        "  Input name\n",
        "  Display \"Ingrese su dirrección:\"\n",
        "  Input address\n",
        "  Display \"Ingrese su ciudad:\"\n",
        "  Input city\n",
        "  Display \"Ingrese su Estado:\"\n",
        "  Input state\n",
        "  Display \"Ingrese su postal:\"\n",
        "  Input zip\n",
        "  Display \"Ingrese su numero telefonico:\"\n",
        "  Input phone\n",
        "  Display \"Ingrese su carrera:\"\n",
        "  Input career\n",
        "\n",
        "  Display \"información personal: \"\n",
        "  Display \"Nombre: \", name\n",
        "  Display \"dirrección: \", address\n",
        "  Display \"Ciudad: \", city\n",
        "  Display \"Estado: \", state\n",
        "  Display \"Codigo postal: \", zip\n",
        "  Display\" Numero telefónico: \", phone\n",
        "  Display \"carrera: \", career\n",
        "End\n",
        "  \n",
        "  \n",
        "\n",
        "\n",
        "```\n"
      ],
      "metadata": {
        "id": "aPcULANTW1S7"
      }
    },
    {
      "cell_type": "code",
      "source": [
        "# Programa para Información Personal\n",
        "\n",
        "print(\"programa de Información personal\")\n",
        "\n",
        "#Variables\n",
        "name = input(\"Ingrese su nombre:\")\n",
        "address = input(\"Ingrese su dirrección:\")\n",
        "city = input(\"Ingrese su ciudad:\")\n",
        "state = input(\"Ingrese su Estado:\")\n",
        "zip = input(\"Ingrese su postal:\")\n",
        "phone = input(\"Ingrese su numero telefonico:\")\n",
        "career = input(\"Ingrese su carrera:\")\n",
        "\n",
        "print(\"información personal: \")\n",
        "print(\"Nombre: \", name)\n",
        "print(\"dirrección: \", address)\n",
        "print(\"Ciudad: \", city)\n",
        "print(\"Estado: \", state)\n",
        "print(\"Codigo postal: \", zip)\n",
        "print(\"Numero telefónico: \", phone)\n",
        "print(\"carrera: \", career)"
      ],
      "metadata": {
        "colab": {
          "base_uri": "https://localhost:8080/"
        },
        "id": "yox8EDW2cgCH",
        "outputId": "61e34ceb-4d3c-451b-bf92-8a49b1b8fde1"
      },
      "execution_count": null,
      "outputs": [
        {
          "output_type": "stream",
          "name": "stdout",
          "text": [
            "programa de Información personal\n",
            "Ingrese su nombre:ale\n",
            "Ingrese su dirrección:12\n",
            "Ingrese su ciudad:monteria\n",
            "Ingrese su Estado:123\n",
            "Ingrese su postal:1234\n",
            "Ingrese su numero telefonico:12345\n",
            "Ingrese su carrera:elec\n",
            "información personal: \n",
            "Nombre:  ale\n",
            "dirrección:  12\n",
            "Ciudad:  monteria\n",
            "Estado:  123\n",
            "Codigo postal:  1234\n",
            "Numero telefónico:  12345\n",
            "carrera:  elec\n"
          ]
        }
      ]
    },
    {
      "cell_type": "markdown",
      "source": [
        "##Predicción de ventas\n",
        "Una empresa ha determinado que su beneficio anual es tipicamente el 23% de las vetnas totales. Diseña un programa que pida al usuarioingresar la cantidad proyectada de ventas totales, y luego muestre el beneficio que se obtendrá de esa cantidad.\n",
        "Pista: Usa el valor 0.23 para representar el 23%\n",
        "\n",
        "##Pseudocodigo\n",
        "```\n",
        "program sells_prediction\n",
        "Start\n",
        "  Declare real benefict, sells\n",
        "  Constant real PORCENTAGE = 0.23\n",
        "\n",
        "  Display \"Programa para determinar el beneficio a partir de la cantidad proyectada de ventas\"\n",
        "  Display \"Ingrese la cantidad proyectada de ventas: \"\n",
        "  input sells\n",
        "\n",
        "  set benefict = sells*PORCENTAGE\n",
        "  Display \"el beneficio es\", benefict\n",
        "\n",
        "```"
      ],
      "metadata": {
        "id": "R-Z588Hsqu4_"
      }
    },
    {
      "cell_type": "code",
      "source": [
        "#Programa para determinar el beneficio\n",
        "print(\"Programa para determinar el beneficio a partir de la cantidad proyectada de ventas\")\n",
        "sells =float(input(\"ingrese la cantidad proyectada de ventas: \"))\n",
        "porcentage = 0.23\n",
        "benefict = sells*0.23\n",
        "print(\"El beneficio es: \", benefict)"
      ],
      "metadata": {
        "id": "dRv3kscCebrG",
        "colab": {
          "base_uri": "https://localhost:8080/"
        },
        "outputId": "a5bac362-5cb0-419e-dcac-b88a8999a01f"
      },
      "execution_count": 12,
      "outputs": [
        {
          "output_type": "stream",
          "name": "stdout",
          "text": [
            "Programa para determinar el beneficio a partir de la cantidad proyectada de ventas\n",
            "ingrese la cantidad proyectada de ventas: 100\n",
            "El beneficio es:  23.0\n"
          ]
        }
      ]
    },
    {
      "cell_type": "code",
      "source": [],
      "metadata": {
        "id": "xWae_rn6uglU"
      },
      "execution_count": null,
      "outputs": []
    }
  ]
}