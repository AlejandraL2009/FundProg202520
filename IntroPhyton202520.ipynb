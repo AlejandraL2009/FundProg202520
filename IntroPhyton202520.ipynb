{
  "nbformat": 4,
  "nbformat_minor": 0,
  "metadata": {
    "colab": {
      "provenance": [],
      "authorship_tag": "ABX9TyN1b4piJQ1/2AN2+nS/Ix3J",
      "include_colab_link": true
    },
    "kernelspec": {
      "name": "python3",
      "display_name": "Python 3"
    },
    "language_info": {
      "name": "python"
    }
  },
  "cells": [
    {
      "cell_type": "markdown",
      "metadata": {
        "id": "view-in-github",
        "colab_type": "text"
      },
      "source": [
        "<a href=\"https://colab.research.google.com/github/AlejandraL2009/FundProg202520/blob/main/IntroPhyton202520.ipynb\" target=\"_parent\"><img src=\"https://colab.research.google.com/assets/colab-badge.svg\" alt=\"Open In Colab\"/></a>"
      ]
    },
    {
      "cell_type": "markdown",
      "source": [
        "# Introducción a Phyton\n",
        "## Fundamentos de Programación\n",
        "### Universidad Pontificia Bolivariana - Seccional Monteria\n",
        "\n",
        "**Fecha:** 29 de agosto de 2025\n",
        "\n",
        "**Presentado por:** _Alejandra Lopera_\n",
        "\n",
        "En la siguiente actividad se explorará los conceptos básicos de Phytron.\n"
      ],
      "metadata": {
        "id": "T2oxawxKZKGw"
      }
    },
    {
      "cell_type": "code",
      "execution_count": 2,
      "metadata": {
        "id": "Y0yf1d-zXot2"
      },
      "outputs": [],
      "source": [
        "# Comentarios\n",
        "\n",
        "#Introducción a phyton\n",
        "#Los comentarios se crean con el # y se utilizan para:\n",
        "# - Dar contexto\n",
        "# - Explicar código\n",
        "# - Ignorar código (pruebas)"
      ]
    },
    {
      "cell_type": "code",
      "source": [
        "#Print\n",
        "\n",
        "#La función print() se utiliza para imprimir un mensaje en consola.\n",
        "\n",
        "print(\"Hola Mundo!\")"
      ],
      "metadata": {
        "colab": {
          "base_uri": "https://localhost:8080/"
        },
        "id": "0RBGHW9GbPBS",
        "outputId": "fd62d7be-ee0d-4cbc-94b4-e81228553495"
      },
      "execution_count": 4,
      "outputs": [
        {
          "output_type": "stream",
          "name": "stdout",
          "text": [
            "Hola Mundo!\n"
          ]
        }
      ]
    },
    {
      "cell_type": "code",
      "source": [
        "#Varaibles\n",
        "\n",
        "#se utilizan variables para \"almacenar\" datros en memoria. Es una referencia a la dirección en memoria donde se almacenan los datos.\n",
        "\n",
        "name = \"Alejandra\"\n",
        "age = \"16\"\n",
        "height = \"1.65\"\n",
        "city = \"Monteria\"\n",
        "is_sleeping = False\n",
        "\n",
        "print(name, age, height, city, is_sleeping)"
      ],
      "metadata": {
        "colab": {
          "base_uri": "https://localhost:8080/"
        },
        "id": "ibADsukcd77I",
        "outputId": "2ec3317b-7e8f-4045-d380-e57d6bfd5334"
      },
      "execution_count": 5,
      "outputs": [
        {
          "output_type": "stream",
          "name": "stdout",
          "text": [
            "Alejandra 16 1.65 Monteria False\n"
          ]
        }
      ]
    },
    {
      "cell_type": "code",
      "source": [
        "#Calculos\n",
        "\n",
        "a = 5\n",
        "b = 2.3\n",
        "c = a + b\n",
        "d = a - b\n",
        "e = a * b\n",
        "f = a / b\n",
        "g = a % b #Modulo: residuo de la división entera de a entre b\n",
        "h = a ** b # Potencia: a elevando a la b\n",
        "print(c)\n",
        "print(d)\n",
        "print(e)\n",
        "print(f)\n",
        "print(g)\n",
        "print(h)"
      ],
      "metadata": {
        "colab": {
          "base_uri": "https://localhost:8080/"
        },
        "id": "uFdqsVkKgT4u",
        "outputId": "a4433f3c-cd6d-484d-9bda-ccde5e104fdd"
      },
      "execution_count": 9,
      "outputs": [
        {
          "output_type": "stream",
          "name": "stdout",
          "text": [
            "7.3\n",
            "2.7\n",
            "11.5\n",
            "2.173913043478261\n",
            "0.40000000000000036\n",
            "40.51641491731905\n"
          ]
        }
      ]
    },
    {
      "cell_type": "code",
      "source": [
        "# Cmbio de valores\n",
        "a = 5\n",
        "print(a)\n",
        "a = 10\n",
        "print(a)"
      ],
      "metadata": {
        "colab": {
          "base_uri": "https://localhost:8080/"
        },
        "id": "dqAMo4eriZS_",
        "outputId": "3e33427e-274c-48ba-d9fd-98101c91caa0"
      },
      "execution_count": 10,
      "outputs": [
        {
          "output_type": "stream",
          "name": "stdout",
          "text": [
            "5\n",
            "10\n"
          ]
        }
      ]
    },
    {
      "cell_type": "code",
      "source": [
        "# Concatenación\n",
        "\n",
        "#Concatenar consiste en unir texto\n",
        "\n",
        "firstname = \"Alejandra\"\n",
        "lastname = \"Lopera\"\n",
        "fullname = firstname + \" \" + lastname\n",
        "print(fullname)"
      ],
      "metadata": {
        "colab": {
          "base_uri": "https://localhost:8080/"
        },
        "id": "5dvpg5EMi3Qu",
        "outputId": "83ed5368-25bf-423a-af9e-9038bd470a74"
      },
      "execution_count": 12,
      "outputs": [
        {
          "output_type": "stream",
          "name": "stdout",
          "text": [
            "Alejandra Lopera\n"
          ]
        }
      ]
    },
    {
      "cell_type": "code",
      "source": [
        "# Incrementadores (+=, -=, *=, /=, ... )\n",
        "\n",
        "time = 0\n",
        "print(time)\n",
        "time += 1\n",
        "print(time)\n",
        "time -= 2\n",
        "print(time)\n",
        "time *= 3\n",
        "print(time)\n",
        "time /= 4\n",
        "print(time)"
      ],
      "metadata": {
        "colab": {
          "base_uri": "https://localhost:8080/"
        },
        "id": "xfjEjLeFjVms",
        "outputId": "36b5bc42-4629-4d6c-f00d-9ee4e34aea72"
      },
      "execution_count": 19,
      "outputs": [
        {
          "output_type": "stream",
          "name": "stdout",
          "text": [
            "0\n",
            "1\n",
            "-1\n",
            "-3\n",
            "-0.75\n"
          ]
        }
      ]
    },
    {
      "cell_type": "code",
      "source": [
        "# Varias líneas de texto\n",
        "\n",
        "song = \"\"\"\n",
        "slippin' into bad dreams\n",
        "Where there's no you in I\n",
        "No sound when i cry\n",
        "I love you and i need you to set me free\n",
        "From all of these bad dreams\n",
        "\"\"\"\n",
        "print(song)"
      ],
      "metadata": {
        "colab": {
          "base_uri": "https://localhost:8080/"
        },
        "id": "C_GJM--qlRRd",
        "outputId": "f5941f2e-ad3c-425d-b62c-e99e6f8754f0"
      },
      "execution_count": 20,
      "outputs": [
        {
          "output_type": "stream",
          "name": "stdout",
          "text": [
            "\n",
            "slippin' into bad dreams\n",
            "Where there's no you in I\n",
            "No sound when i cry\n",
            "I love you and i need you to set me free\n",
            "From all of these bad dreams\n",
            "\n"
          ]
        }
      ]
    },
    {
      "cell_type": "code",
      "source": [
        "#Inputs\n",
        "\n",
        "#Se utilñizan para gestionar entradas de usuario\n",
        "\n",
        "name= input(\"Hola. ¿como es tu nombre? \")\n",
        "print(\"Hola\", name, \"mucho gusto\")"
      ],
      "metadata": {
        "colab": {
          "base_uri": "https://localhost:8080/"
        },
        "id": "jIQodrKmnMyV",
        "outputId": "f4c28ee0-793e-4385-cc37-08a3e499125f"
      },
      "execution_count": 22,
      "outputs": [
        {
          "output_type": "stream",
          "name": "stdout",
          "text": [
            "Hola. ¿como es tu nombre? Alejandra\n",
            "Hola Alejandra mucho gusto\n"
          ]
        }
      ]
    },
    {
      "cell_type": "code",
      "source": [
        "# Calculat_tiempo\n",
        "#prograna para calcular el tiempo de caída libre\n",
        "\n",
        "G = 9.81\n",
        "#h = 10 # t = 1.4007\n",
        "#h = 20 # t = 2.019\n",
        "#h = 30 # t = 2.4730\n",
        "h = float(input(\"Ingrese la altura (m): \"))\n",
        "t = ( 2 * h / G) ** (1/2)\n",
        "print(\"El tiempo de caída libre es\", t, \"segundos.\")"
      ],
      "metadata": {
        "colab": {
          "base_uri": "https://localhost:8080/"
        },
        "id": "Ff-lzhbgoTf9",
        "outputId": "7b519438-298a-4f90-c38b-b17578f1ec19"
      },
      "execution_count": 24,
      "outputs": [
        {
          "output_type": "stream",
          "name": "stdout",
          "text": [
            "Ingrese la altura (m): 30\n",
            "El tiempo de caída libre es 2.4730968341474897 segundos.\n"
          ]
        }
      ]
    },
    {
      "cell_type": "code",
      "source": [
        "# Promedio de créditos\n",
        "\n",
        "#Escriba un programa para calcular y mostras el numero de créditos inscritos por 3 estudiantes y el promedio de créditos\n",
        "\n",
        "creditos_1 = float(input(\"Ingrese el numero de creditos del priemr estudiante: \"))\n",
        "creditos_2 = float(input(\"Ingrese el numero de creditos del segundo estudiante: \"))\n",
        "creditos_3 = float(input(\"Ingrese en numero de creditos del tercer estudiante:\"))\n",
        "creditos_promedio = (creditos_1 + creditos_2 + creditos_3)/3\n",
        "creditos_totales = (creditos_1 + creditos_2 + creditos_3)\n",
        "print(\"El total de creditos de los 3 estudiantes es:\", creditos_totales)\n",
        "print(\"El promedio de los creditos de los estudiantes son:\", creditos_promedio)\n",
        "\n"
      ],
      "metadata": {
        "colab": {
          "base_uri": "https://localhost:8080/"
        },
        "id": "oH4HHtSkouuk",
        "outputId": "792ecaba-13a2-452e-8184-8d59733a61f4"
      },
      "execution_count": 34,
      "outputs": [
        {
          "output_type": "stream",
          "name": "stdout",
          "text": [
            "Ingrese el numero de creditos del priemr estudiante: 1\n",
            "Ingrese el numero de creditos del segundo estudiante: 2\n",
            "Ingrese en numero de creditos del tercer estudiante:3\n",
            "El total de creditos de los 3 estudiantes es: 6.0\n",
            "El promedio de los creditos de los estudiantes son: 2.0\n"
          ]
        }
      ]
    }
  ]
}